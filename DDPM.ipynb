{
  "nbformat": 4,
  "nbformat_minor": 0,
  "metadata": {
    "colab": {
      "provenance": []
    },
    "kernelspec": {
      "name": "python3",
      "display_name": "Python 3"
    },
    "language_info": {
      "name": "python"
    }
  },
  "cells": [
    {
      "cell_type": "markdown",
      "source": [
        "# **Clone the required Github Repository**"
      ],
      "metadata": {
        "id": "gTe3sBRZWYQ1"
      }
    },
    {
      "cell_type": "code",
      "execution_count": 1,
      "metadata": {
        "colab": {
          "base_uri": "https://localhost:8080/"
        },
        "id": "wdWV023iT0au",
        "outputId": "aa69e838-aa21-4812-b895-5d48f2f65ffd"
      },
      "outputs": [
        {
          "output_type": "stream",
          "name": "stdout",
          "text": [
            "Cloning into 'DDPM-model'...\n",
            "remote: Enumerating objects: 51, done.\u001b[K\n",
            "remote: Counting objects: 100% (51/51), done.\u001b[K\n",
            "remote: Compressing objects: 100% (43/43), done.\u001b[K\n",
            "remote: Total 51 (delta 23), reused 26 (delta 7), pack-reused 0\u001b[K\n",
            "Receiving objects: 100% (51/51), 16.03 KiB | 8.02 MiB/s, done.\n",
            "Resolving deltas: 100% (23/23), done.\n"
          ]
        }
      ],
      "source": [
        "!git clone https://github.com/mognc/DDPM-model.git"
      ]
    },
    {
      "cell_type": "code",
      "source": [
        "%cd /content/DDPM-model"
      ],
      "metadata": {
        "colab": {
          "base_uri": "https://localhost:8080/"
        },
        "id": "KKWp5dRqWdGi",
        "outputId": "9e6d2817-7944-4942-c91f-df8b43af49ba"
      },
      "execution_count": 2,
      "outputs": [
        {
          "output_type": "stream",
          "name": "stdout",
          "text": [
            "/content/DDPM-model\n"
          ]
        }
      ]
    },
    {
      "cell_type": "markdown",
      "source": [
        "# Create the training directory"
      ],
      "metadata": {
        "id": "l7P8QkJmXZlL"
      }
    },
    {
      "cell_type": "code",
      "source": [
        "import os\n",
        "\n",
        "# Define the path to the main directory\n",
        "main_directory = '/content/DDPM-model'\n",
        "\n",
        "# Create the 'data' folder inside the main directory\n",
        "data_folder = os.path.join(main_directory, 'data')\n",
        "os.makedirs(data_folder, exist_ok=True)\n",
        "\n",
        "# Create the 'train' folder inside the 'data' folder\n",
        "train_folder = os.path.join(data_folder, 'train')\n",
        "os.makedirs(train_folder, exist_ok=True)\n",
        "\n",
        "# Create the 'images' folder inside the 'train' folder\n",
        "images_folder = os.path.join(train_folder, 'images')\n",
        "os.makedirs(images_folder, exist_ok=True)\n",
        "\n",
        "print(\"Directory structure created successfully.\")"
      ],
      "metadata": {
        "colab": {
          "base_uri": "https://localhost:8080/"
        },
        "id": "oXwxmKnrXYvP",
        "outputId": "e4098d2f-4574-4b28-c540-d167de106a99"
      },
      "execution_count": 3,
      "outputs": [
        {
          "output_type": "stream",
          "name": "stdout",
          "text": [
            "Directory structure created successfully.\n"
          ]
        }
      ]
    },
    {
      "cell_type": "markdown",
      "source": [
        "# **Mount your Google drive and upload your images**"
      ],
      "metadata": {
        "id": "sE-N19OOdGTK"
      }
    },
    {
      "cell_type": "code",
      "source": [
        "from google.colab import drive\n",
        "\n",
        "\n",
        "# Mount Google Drive\n",
        "drive.mount('/content/drive')"
      ],
      "metadata": {
        "colab": {
          "base_uri": "https://localhost:8080/"
        },
        "id": "4gx8Mc76dCfq",
        "outputId": "434e1d41-76f9-43ab-c625-2c075b6df2c3"
      },
      "execution_count": 4,
      "outputs": [
        {
          "output_type": "stream",
          "name": "stdout",
          "text": [
            "Mounted at /content/drive\n"
          ]
        }
      ]
    },
    {
      "cell_type": "code",
      "source": [
        "import shutil\n",
        "# Define the path to the temporary directory in Google Colab\n",
        "temp_directory = '/content/temp'\n",
        "\n",
        "# Create the temporary directory if it doesn't exist\n",
        "os.makedirs(temp_directory, exist_ok=True)\n",
        "\n",
        "# Move images from Google Drive to the temporary directory\n",
        "drive_images_folder = '/content/drive/MyDrive/rgb'\n",
        "for file_name in os.listdir(drive_images_folder):\n",
        "    source_file_path = os.path.join(drive_images_folder, file_name)\n",
        "    if os.path.isfile(source_file_path):\n",
        "        shutil.copy(source_file_path, temp_directory)\n",
        "\n",
        "# Move images from the temporary directory to the 'images' folder\n",
        "for file_name in os.listdir(temp_directory):\n",
        "    source_file_path = os.path.join(temp_directory, file_name)\n",
        "    target_file_path = os.path.join(images_folder, file_name)\n",
        "    shutil.move(source_file_path, target_file_path)\n",
        "\n",
        "# Clean up the temporary directory\n",
        "shutil.rmtree(temp_directory)\n",
        "\n",
        "print(\"Images uploaded and moved successfully.\")"
      ],
      "metadata": {
        "colab": {
          "base_uri": "https://localhost:8080/"
        },
        "id": "hcIuXkOXX8SA",
        "outputId": "cde94317-34bb-4e82-a251-ff7474ccc1c2"
      },
      "execution_count": 5,
      "outputs": [
        {
          "output_type": "stream",
          "name": "stdout",
          "text": [
            "Images uploaded and moved successfully.\n"
          ]
        }
      ]
    },
    {
      "cell_type": "markdown",
      "source": [
        "# **Begin Training**"
      ],
      "metadata": {
        "id": "CRAepqb0W9oL"
      }
    },
    {
      "cell_type": "code",
      "source": [
        "!python -m tools.train_ddpm"
      ],
      "metadata": {
        "colab": {
          "base_uri": "https://localhost:8080/"
        },
        "id": "gJonvdHIWxQc",
        "outputId": "12a32007-9426-4542-8400-95b8afca2109"
      },
      "execution_count": 6,
      "outputs": [
        {
          "output_type": "stream",
          "name": "stdout",
          "text": [
            "{'dataset_params': {'im_path': 'data/train/'}, 'diffusion_params': {'num_timesteps': 1000, 'beta_start': 0.0001, 'beta_end': 0.02}, 'model_params': {'im_channels': 3, 'im_size': 64, 'down_channels': [32, 64, 128, 256], 'mid_channels': [256, 256, 128], 'down_sample': [True, True, False], 'time_emb_dim': 128, 'num_down_layers': 2, 'num_mid_layers': 2, 'num_up_layers': 2, 'num_heads': 4}, 'train_params': {'task_name': 'trained_model', 'batch_size': 6, 'num_epochs': 200, 'num_samples': 3, 'num_grid_rows': 10, 'lr': 0.0001, 'ckpt_name': 'ddpm_ckpt.pth'}}\n",
            "\r  0% 0/1 [00:00<?, ?it/s]\r100% 1/1 [00:00<00:00, 842.06it/s]\n",
            "Found 257 images for split train\n",
            "/usr/local/lib/python3.10/dist-packages/torch/utils/data/dataloader.py:558: UserWarning: This DataLoader will create 4 worker processes in total. Our suggested max number of worker in current system is 2, which is smaller than what this DataLoader is going to create. Please be aware that excessive worker creation might get DataLoader running slow or even freeze, lower the worker number to avoid potential slowness/freeze if necessary.\n",
            "  warnings.warn(_create_warning_msg(\n",
            "  2% 1/43 [00:51<36:09, 51.67s/it]^C\n"
          ]
        }
      ]
    },
    {
      "cell_type": "markdown",
      "source": [
        "# **Generate sample images**"
      ],
      "metadata": {
        "id": "yVtiN2GKXKbp"
      }
    },
    {
      "cell_type": "code",
      "source": [
        "!python -m tools.sample_ddpm"
      ],
      "metadata": {
        "id": "bIqDmjSdXJBc"
      },
      "execution_count": null,
      "outputs": []
    }
  ]
}